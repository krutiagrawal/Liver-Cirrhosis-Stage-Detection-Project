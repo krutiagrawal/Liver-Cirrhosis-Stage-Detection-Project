{
 "cells": [
  {
   "cell_type": "code",
   "id": "68492c2c-a0d2-4721-ab2d-ee52223d53f0",
   "metadata": {
    "ExecuteTime": {
     "end_time": "2024-10-30T16:36:47.435773Z",
     "start_time": "2024-10-30T16:36:47.411781Z"
    }
   },
   "source": [
    "import pandas as pd\n",
    "import numpy as np\n",
    "from sklearn.model_selection import train_test_split\n",
    "from sklearn.preprocessing import LabelEncoder, StandardScaler\n",
    "from tensorflow.keras.models import Sequential\n",
    "from tensorflow.keras.layers import Dense, Dropout\n",
    "from sklearn.metrics import accuracy_score\n",
    "import joblib"
   ],
   "outputs": [],
   "execution_count": 13
  },
  {
   "cell_type": "code",
   "id": "cf420cdd-7069-4dc8-9db1-b63d1234b6ef",
   "metadata": {
    "ExecuteTime": {
     "end_time": "2024-10-30T16:31:05.867367Z",
     "start_time": "2024-10-30T16:31:05.814661Z"
    }
   },
   "source": [
    "# Load dataset\n",
    "df = pd.read_csv(r\"C:\\Users\\Kruti Agrawal\\Desktop\\Projects\\liver_cirrhosis_stage\\liver_cirrhosis_stage\\liver_cirrhosis.csv\")  "
   ],
   "outputs": [],
   "execution_count": 2
  },
  {
   "cell_type": "code",
   "id": "34792063-9b8d-4996-8397-e0795f75af80",
   "metadata": {
    "ExecuteTime": {
     "end_time": "2024-10-30T16:31:05.990392Z",
     "start_time": "2024-10-30T16:31:05.952856Z"
    }
   },
   "source": [
    "# Encoding categorical features\n",
    "label_encoders = {}\n",
    "for column in ['Status', 'Drug', 'Sex', 'Ascites', 'Hepatomegaly', 'Spiders', 'Edema']:\n",
    "    le = LabelEncoder()\n",
    "    df[column] = le.fit_transform(df[column].astype(str))\n",
    "    label_encoders[column] = le"
   ],
   "outputs": [],
   "execution_count": 3
  },
  {
   "cell_type": "code",
   "id": "39bc1ca1-fef5-44a4-9cd6-79ce3caf4912",
   "metadata": {
    "ExecuteTime": {
     "end_time": "2024-10-30T16:31:06.039041Z",
     "start_time": "2024-10-30T16:31:06.017767Z"
    }
   },
   "source": [
    "# Handling missing values\n",
    "df.fillna(df.median(), inplace=True)"
   ],
   "outputs": [],
   "execution_count": 4
  },
  {
   "cell_type": "code",
   "id": "3c587940-795e-4fba-b3ac-0d2e1fac5745",
   "metadata": {
    "ExecuteTime": {
     "end_time": "2024-10-30T16:31:06.121330Z",
     "start_time": "2024-10-30T16:31:06.074086Z"
    }
   },
   "source": [
    "# Scale features\n",
    "scaler = StandardScaler()\n",
    "features = df.drop('Stage', axis=1)\n",
    "target = df['Stage']\n",
    "features_scaled = scaler.fit_transform(features)"
   ],
   "outputs": [],
   "execution_count": 5
  },
  {
   "cell_type": "code",
   "id": "c9d65ad4-7701-4f02-b530-ee87e95180f5",
   "metadata": {
    "ExecuteTime": {
     "end_time": "2024-10-30T16:31:06.178182Z",
     "start_time": "2024-10-30T16:31:06.156999Z"
    }
   },
   "source": [
    "# Split dataset\n",
    "X_train, X_test, y_train, y_test = train_test_split(features_scaled, target, test_size=0.2, random_state=42)"
   ],
   "outputs": [],
   "execution_count": 6
  },
  {
   "cell_type": "code",
   "id": "ec485842-f3f6-4c23-b2a2-2b9be19ec8cd",
   "metadata": {
    "ExecuteTime": {
     "end_time": "2024-10-30T16:31:06.299548Z",
     "start_time": "2024-10-30T16:31:06.213555Z"
    }
   },
   "source": [
    "# Defining the model\n",
    "model = Sequential([\n",
    "    Dense(64, input_shape=(X_train.shape[1],), activation='relu'),\n",
    "    Dropout(0.3),\n",
    "    Dense(32, activation='relu'),\n",
    "    Dropout(0.3),\n",
    "    Dense(16, activation='relu'),\n",
    "    Dropout(0.3),\n",
    "    Dense(4, activation='softmax')  \n",
    "])"
   ],
   "outputs": [],
   "execution_count": 7
  },
  {
   "cell_type": "code",
   "id": "83a782b8-8093-464f-80c3-30a422577a82",
   "metadata": {
    "ExecuteTime": {
     "end_time": "2024-10-30T16:31:06.356297Z",
     "start_time": "2024-10-30T16:31:06.328200Z"
    }
   },
   "source": [
    "# Compiling the model\n",
    "model.compile(optimizer='adam', loss='sparse_categorical_crossentropy', metrics=['accuracy'])"
   ],
   "outputs": [],
   "execution_count": 8
  },
  {
   "cell_type": "code",
   "id": "88c7aac3-4c64-45bc-93f8-a8639f5d615c",
   "metadata": {
    "ExecuteTime": {
     "end_time": "2024-10-30T16:32:09.693805Z",
     "start_time": "2024-10-30T16:31:06.391241Z"
    }
   },
   "source": [
    "# Training the model\n",
    "history = model.fit(X_train, y_train, epochs=50, validation_data=(X_test, y_test), batch_size=16)"
   ],
   "outputs": [
    {
     "name": "stdout",
     "output_type": "stream",
     "text": [
      "Epoch 1/50\n",
      "1250/1250 [==============================] - 2s 1ms/step - loss: 0.9743 - accuracy: 0.5347 - val_loss: 0.7887 - val_accuracy: 0.6602\n",
      "Epoch 2/50\n",
      "1250/1250 [==============================] - 1s 974us/step - loss: 0.8351 - accuracy: 0.6255 - val_loss: 0.7174 - val_accuracy: 0.6880\n",
      "Epoch 3/50\n",
      "1250/1250 [==============================] - 1s 962us/step - loss: 0.7790 - accuracy: 0.6578 - val_loss: 0.6700 - val_accuracy: 0.7186\n",
      "Epoch 4/50\n",
      "1250/1250 [==============================] - 1s 996us/step - loss: 0.7469 - accuracy: 0.6787 - val_loss: 0.6377 - val_accuracy: 0.7332\n",
      "Epoch 5/50\n",
      "1250/1250 [==============================] - 1s 1ms/step - loss: 0.7265 - accuracy: 0.6902 - val_loss: 0.6218 - val_accuracy: 0.7386\n",
      "Epoch 6/50\n",
      "1250/1250 [==============================] - 1s 984us/step - loss: 0.7002 - accuracy: 0.7075 - val_loss: 0.6006 - val_accuracy: 0.7502\n",
      "Epoch 7/50\n",
      "1250/1250 [==============================] - 1s 946us/step - loss: 0.6914 - accuracy: 0.7119 - val_loss: 0.5966 - val_accuracy: 0.7576\n",
      "Epoch 8/50\n",
      "1250/1250 [==============================] - 1s 947us/step - loss: 0.6740 - accuracy: 0.7208 - val_loss: 0.5692 - val_accuracy: 0.7690\n",
      "Epoch 9/50\n",
      "1250/1250 [==============================] - 1s 955us/step - loss: 0.6633 - accuracy: 0.7247 - val_loss: 0.5627 - val_accuracy: 0.7710\n",
      "Epoch 10/50\n",
      "1250/1250 [==============================] - 1s 958us/step - loss: 0.6551 - accuracy: 0.7303 - val_loss: 0.5493 - val_accuracy: 0.7774\n",
      "Epoch 11/50\n",
      "1250/1250 [==============================] - 1s 955us/step - loss: 0.6466 - accuracy: 0.7325 - val_loss: 0.5407 - val_accuracy: 0.7800\n",
      "Epoch 12/50\n",
      "1250/1250 [==============================] - 1s 941us/step - loss: 0.6355 - accuracy: 0.7395 - val_loss: 0.5266 - val_accuracy: 0.7888\n",
      "Epoch 13/50\n",
      "1250/1250 [==============================] - 1s 987us/step - loss: 0.6272 - accuracy: 0.7458 - val_loss: 0.5318 - val_accuracy: 0.7850\n",
      "Epoch 14/50\n",
      "1250/1250 [==============================] - 1s 971us/step - loss: 0.6187 - accuracy: 0.7487 - val_loss: 0.5181 - val_accuracy: 0.7918\n",
      "Epoch 15/50\n",
      "1250/1250 [==============================] - 1s 955us/step - loss: 0.6171 - accuracy: 0.7506 - val_loss: 0.5129 - val_accuracy: 0.7944\n",
      "Epoch 16/50\n",
      "1250/1250 [==============================] - 1s 947us/step - loss: 0.6146 - accuracy: 0.7541 - val_loss: 0.5033 - val_accuracy: 0.8002\n",
      "Epoch 17/50\n",
      "1250/1250 [==============================] - 1s 1ms/step - loss: 0.6018 - accuracy: 0.7541 - val_loss: 0.4987 - val_accuracy: 0.8040\n",
      "Epoch 18/50\n",
      "1250/1250 [==============================] - 1s 1ms/step - loss: 0.6081 - accuracy: 0.7574 - val_loss: 0.4895 - val_accuracy: 0.8042\n",
      "Epoch 19/50\n",
      "1250/1250 [==============================] - 1s 976us/step - loss: 0.6016 - accuracy: 0.7595 - val_loss: 0.4829 - val_accuracy: 0.8106\n",
      "Epoch 20/50\n",
      "1250/1250 [==============================] - 1s 944us/step - loss: 0.5983 - accuracy: 0.7584 - val_loss: 0.4816 - val_accuracy: 0.8172\n",
      "Epoch 21/50\n",
      "1250/1250 [==============================] - 1s 955us/step - loss: 0.5934 - accuracy: 0.7598 - val_loss: 0.4831 - val_accuracy: 0.8086\n",
      "Epoch 22/50\n",
      "1250/1250 [==============================] - 1s 954us/step - loss: 0.5886 - accuracy: 0.7665 - val_loss: 0.4757 - val_accuracy: 0.8096\n",
      "Epoch 23/50\n",
      "1250/1250 [==============================] - 1s 946us/step - loss: 0.5875 - accuracy: 0.7662 - val_loss: 0.4735 - val_accuracy: 0.8136\n",
      "Epoch 24/50\n",
      "1250/1250 [==============================] - 1s 955us/step - loss: 0.5883 - accuracy: 0.7660 - val_loss: 0.4692 - val_accuracy: 0.8180\n",
      "Epoch 25/50\n",
      "1250/1250 [==============================] - 1s 953us/step - loss: 0.5817 - accuracy: 0.7682 - val_loss: 0.4727 - val_accuracy: 0.8178\n",
      "Epoch 26/50\n",
      "1250/1250 [==============================] - 1s 946us/step - loss: 0.5818 - accuracy: 0.7722 - val_loss: 0.4629 - val_accuracy: 0.8210\n",
      "Epoch 27/50\n",
      "1250/1250 [==============================] - 1s 947us/step - loss: 0.5736 - accuracy: 0.7735 - val_loss: 0.4603 - val_accuracy: 0.8230\n",
      "Epoch 28/50\n",
      "1250/1250 [==============================] - 1s 974us/step - loss: 0.5772 - accuracy: 0.7685 - val_loss: 0.4631 - val_accuracy: 0.8198\n",
      "Epoch 29/50\n",
      "1250/1250 [==============================] - 1s 1ms/step - loss: 0.5698 - accuracy: 0.7754 - val_loss: 0.4604 - val_accuracy: 0.8242\n",
      "Epoch 30/50\n",
      "1250/1250 [==============================] - 1s 1ms/step - loss: 0.5679 - accuracy: 0.7756 - val_loss: 0.4699 - val_accuracy: 0.8200\n",
      "Epoch 31/50\n",
      "1250/1250 [==============================] - 1s 1ms/step - loss: 0.5657 - accuracy: 0.7750 - val_loss: 0.4524 - val_accuracy: 0.8300\n",
      "Epoch 32/50\n",
      "1250/1250 [==============================] - 1s 1ms/step - loss: 0.5623 - accuracy: 0.7793 - val_loss: 0.4542 - val_accuracy: 0.8220\n",
      "Epoch 33/50\n",
      "1250/1250 [==============================] - 1s 1ms/step - loss: 0.5600 - accuracy: 0.7800 - val_loss: 0.4422 - val_accuracy: 0.8378\n",
      "Epoch 34/50\n",
      "1250/1250 [==============================] - 1s 1ms/step - loss: 0.5697 - accuracy: 0.7736 - val_loss: 0.4512 - val_accuracy: 0.8346\n",
      "Epoch 35/50\n",
      "1250/1250 [==============================] - 1s 1ms/step - loss: 0.5629 - accuracy: 0.7814 - val_loss: 0.4527 - val_accuracy: 0.8368\n",
      "Epoch 36/50\n",
      "1250/1250 [==============================] - 1s 1ms/step - loss: 0.5662 - accuracy: 0.7775 - val_loss: 0.4436 - val_accuracy: 0.8368\n",
      "Epoch 37/50\n",
      "1250/1250 [==============================] - 1s 1ms/step - loss: 0.5578 - accuracy: 0.7797 - val_loss: 0.4402 - val_accuracy: 0.8310\n",
      "Epoch 38/50\n",
      "1250/1250 [==============================] - 1s 1ms/step - loss: 0.5556 - accuracy: 0.7843 - val_loss: 0.4422 - val_accuracy: 0.8404\n",
      "Epoch 39/50\n",
      "1250/1250 [==============================] - 1s 1ms/step - loss: 0.5518 - accuracy: 0.7839 - val_loss: 0.4313 - val_accuracy: 0.8358\n",
      "Epoch 40/50\n",
      "1250/1250 [==============================] - 1s 1ms/step - loss: 0.5527 - accuracy: 0.7849 - val_loss: 0.4281 - val_accuracy: 0.8422\n",
      "Epoch 41/50\n",
      "1250/1250 [==============================] - 1s 998us/step - loss: 0.5540 - accuracy: 0.7825 - val_loss: 0.4344 - val_accuracy: 0.8352\n",
      "Epoch 42/50\n",
      "1250/1250 [==============================] - 1s 1ms/step - loss: 0.5510 - accuracy: 0.7853 - val_loss: 0.4286 - val_accuracy: 0.8356\n",
      "Epoch 43/50\n",
      "1250/1250 [==============================] - 1s 1ms/step - loss: 0.5507 - accuracy: 0.7836 - val_loss: 0.4294 - val_accuracy: 0.8408\n",
      "Epoch 44/50\n",
      "1250/1250 [==============================] - 1s 1ms/step - loss: 0.5504 - accuracy: 0.7850 - val_loss: 0.4301 - val_accuracy: 0.8382\n",
      "Epoch 45/50\n",
      "1250/1250 [==============================] - 1s 1ms/step - loss: 0.5506 - accuracy: 0.7858 - val_loss: 0.4321 - val_accuracy: 0.8386\n",
      "Epoch 46/50\n",
      "1250/1250 [==============================] - 1s 1ms/step - loss: 0.5504 - accuracy: 0.7846 - val_loss: 0.4317 - val_accuracy: 0.8398\n",
      "Epoch 47/50\n",
      "1250/1250 [==============================] - 1s 1ms/step - loss: 0.5434 - accuracy: 0.7906 - val_loss: 0.4295 - val_accuracy: 0.8384\n",
      "Epoch 48/50\n",
      "1250/1250 [==============================] - 1s 1ms/step - loss: 0.5457 - accuracy: 0.7893 - val_loss: 0.4236 - val_accuracy: 0.8396\n",
      "Epoch 49/50\n",
      "1250/1250 [==============================] - 1s 1ms/step - loss: 0.5429 - accuracy: 0.7876 - val_loss: 0.4242 - val_accuracy: 0.8432\n",
      "Epoch 50/50\n",
      "1250/1250 [==============================] - 1s 1ms/step - loss: 0.5395 - accuracy: 0.7911 - val_loss: 0.4210 - val_accuracy: 0.8420\n"
     ]
    }
   ],
   "execution_count": 9
  },
  {
   "cell_type": "code",
   "id": "d6d50463-b672-4a18-aa0b-8d102355a560",
   "metadata": {
    "ExecuteTime": {
     "end_time": "2024-10-30T16:32:09.900715Z",
     "start_time": "2024-10-30T16:32:09.721306Z"
    }
   },
   "source": [
    "# Evaluating model\n",
    "test_loss, test_accuracy = model.evaluate(X_test, y_test)\n",
    "print(f\"Test Accuracy: {test_accuracy * 100:.2f}%\")"
   ],
   "outputs": [
    {
     "name": "stdout",
     "output_type": "stream",
     "text": [
      "157/157 [==============================] - 0s 784us/step - loss: 0.4210 - accuracy: 0.8420\n",
      "Test Accuracy: 84.20%\n"
     ]
    }
   ],
   "execution_count": 10
  },
  {
   "cell_type": "code",
   "id": "5e7b8326-456a-4471-b998-9b7dfbe9d22d",
   "metadata": {
    "ExecuteTime": {
     "end_time": "2024-10-30T16:32:10.180940Z",
     "start_time": "2024-10-30T16:32:09.932036Z"
    }
   },
   "source": [
    "# Predictions and accuracy score\n",
    "y_pred = model.predict(X_test).argmax(axis=1)\n",
    "print(f\"Accuracy Score: {accuracy_score(y_test, y_pred) * 100:.2f}%\")"
   ],
   "outputs": [
    {
     "name": "stdout",
     "output_type": "stream",
     "text": [
      "157/157 [==============================] - 0s 621us/step\n",
      "Accuracy Score: 84.20%\n"
     ]
    }
   ],
   "execution_count": 11
  },
  {
   "cell_type": "code",
   "id": "bad9eb7a-e298-4f00-aeff-26c090b2f011",
   "metadata": {
    "ExecuteTime": {
     "end_time": "2024-10-30T16:32:10.281194Z",
     "start_time": "2024-10-30T16:32:10.216698Z"
    }
   },
   "source": [
    "model.save(\"liver_cirrhosis_model.h5\")"
   ],
   "outputs": [
    {
     "name": "stderr",
     "output_type": "stream",
     "text": [
      "C:\\Users\\Kruti Agrawal\\anaconda3\\envs\\new_env\\lib\\site-packages\\keras\\src\\engine\\training.py:3000: UserWarning: You are saving your model as an HDF5 file via `model.save()`. This file format is considered legacy. We recommend using instead the native Keras format, e.g. `model.save('my_model.keras')`.\n",
      "  saving_api.save_model(\n"
     ]
    }
   ],
   "execution_count": 12
  },
  {
   "cell_type": "code",
   "id": "8c19f250-bff5-4981-86a3-e711b21d9c99",
   "metadata": {
    "ExecuteTime": {
     "end_time": "2024-10-30T16:36:59.577536Z",
     "start_time": "2024-10-30T16:36:59.521295Z"
    }
   },
   "source": "joblib.dump(scaler, \"scaler.joblib\")",
   "outputs": [
    {
     "data": {
      "text/plain": [
       "['scaler.joblib']"
      ]
     },
     "execution_count": 14,
     "metadata": {},
     "output_type": "execute_result"
    }
   ],
   "execution_count": 14
  },
  {
   "metadata": {},
   "cell_type": "code",
   "outputs": [],
   "execution_count": null,
   "source": "",
   "id": "2bed5275d9fb051f"
  }
 ],
 "metadata": {
  "kernelspec": {
   "display_name": "Python 3 (ipykernel)",
   "language": "python",
   "name": "python3"
  },
  "language_info": {
   "codemirror_mode": {
    "name": "ipython",
    "version": 3
   },
   "file_extension": ".py",
   "mimetype": "text/x-python",
   "name": "python",
   "nbconvert_exporter": "python",
   "pygments_lexer": "ipython3",
   "version": "3.12.4"
  }
 },
 "nbformat": 4,
 "nbformat_minor": 5
}
